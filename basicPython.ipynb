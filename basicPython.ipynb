{
 "cells": [
  {
   "cell_type": "code",
   "execution_count": 11,
   "id": "8b44da7f-5c8f-4d94-822a-965337740e43",
   "metadata": {},
   "outputs": [
    {
     "data": {
      "text/plain": [
       "'C:\\\\Users\\\\Administrator'"
      ]
     },
     "execution_count": 11,
     "metadata": {},
     "output_type": "execute_result"
    }
   ],
   "source": [
    "pwd"
   ]
  },
  {
   "cell_type": "code",
   "execution_count": 1,
   "id": "92d690cf-4f0d-40de-971c-7329d60318fb",
   "metadata": {},
   "outputs": [],
   "source": [
    "a=6"
   ]
  },
  {
   "cell_type": "markdown",
   "id": "b58a7046-490f-4c3b-90f0-d9f3c1d6dca2",
   "metadata": {},
   "source": [
    "<a href =\"https://pynative.com/wp-content/uploads/2021/02/dictionaries-in-python.jpg\">딕셔너리</a>"
   ]
  },
  {
   "cell_type": "markdown",
   "id": "9809dc11-d844-4d67-b39e-92c29cacfd61",
   "metadata": {},
   "source": [
    "<img src=\"images/1.jpg\">"
   ]
  },
  {
   "cell_type": "markdown",
   "id": "d1d2def1-9b36-45f1-8945-13b3a6ef058f",
   "metadata": {},
   "source": [
    "<h1>dictionary</h1>\n",
    "<h4>딕셔너리는 키와 value의 쌍으로 이루어진 데이터 => 자바스크립트의 객체와 동일</h4>"
   ]
  },
  {
   "cell_type": "code",
   "execution_count": 3,
   "id": "c826cdd0-bc74-4b84-a4fd-2755b342fb3a",
   "metadata": {},
   "outputs": [],
   "source": [
    "a={'a':6} #dictionary "
   ]
  },
  {
   "cell_type": "code",
   "execution_count": 5,
   "id": "1b899c65-c29f-4339-aafa-11fc25c34e74",
   "metadata": {},
   "outputs": [],
   "source": [
    "b=[1,2,3] #리스트"
   ]
  },
  {
   "cell_type": "code",
   "execution_count": 7,
   "id": "ce957819-492c-449c-bd19-69a37e613945",
   "metadata": {},
   "outputs": [
    {
     "data": {
      "text/plain": [
       "{'a': 6, 'b': 13}"
      ]
     },
     "execution_count": 7,
     "metadata": {},
     "output_type": "execute_result"
    }
   ],
   "source": [
    "a['b'] = 13\n",
    "a"
   ]
  },
  {
   "cell_type": "code",
   "execution_count": 30,
   "id": "b4465724-a980-4536-8083-c2939307004c",
   "metadata": {},
   "outputs": [
    {
     "name": "stdout",
     "output_type": "stream",
     "text": [
      "Object `너뭐됨` not found.\n"
     ]
    }
   ],
   "source": []
  }
 ],
 "metadata": {
  "kernelspec": {
   "display_name": "Python [conda env:base] *",
   "language": "python",
   "name": "conda-base-py"
  },
  "language_info": {
   "codemirror_mode": {
    "name": "ipython",
    "version": 3
   },
   "file_extension": ".py",
   "mimetype": "text/x-python",
   "name": "python",
   "nbconvert_exporter": "python",
   "pygments_lexer": "ipython3",
   "version": "3.12.7"
  }
 },
 "nbformat": 4,
 "nbformat_minor": 5
}
